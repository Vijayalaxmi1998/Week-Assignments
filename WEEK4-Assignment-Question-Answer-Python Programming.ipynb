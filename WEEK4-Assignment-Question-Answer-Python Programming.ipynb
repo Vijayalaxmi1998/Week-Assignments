{
 "cells": [
  {
   "cell_type": "markdown",
   "id": "a8ebf362-b19c-4de7-9d3e-e3b065c4b835",
   "metadata": {},
   "source": [
    "# WEEK4:Assignment\n",
    "# Name: Vijayalaxmi Kaleguddi\n",
    "# Batch No: 7233"
   ]
  },
  {
   "cell_type": "markdown",
   "id": "2f0c305e",
   "metadata": {},
   "source": [
    "```\n",
    "Q1.TEAM ASSESMENTS\n",
    "\n",
    "The Team Leader of Testing team of XYZ company decided to assess the team members by organising a programming event. So he gave the team a task.\n",
    "The task is given an array of size N, find the number of distinct elements in the array and print them in ascending order. Those members who answer, will get some reward.\n",
    "Write a program to help the Team Leader to evaluate the solutions of the team members.\n",
    "\n",
    "Input format:\n",
    "The first line contains a single integer that denotes the size of the array, N.\n",
    "The second line contains N space separated integer values of the array.\n",
    "\n",
    "Output format:\n",
    "The first line is an integer that denotes the number of the distinct elements i nthe array.\n",
    "The second line is a series of integers seperated by space that denotes the distinct elements.\n",
    "\n",
    "Sample Input 1:\n",
    "5\n",
    "1 2 1 2 1\n",
    "Sample Output 1:\n",
    "2\n",
    "1 2\n",
    "\n",
    "Sample Input 2:\n",
    "5\n",
    "145 25 21 25 36\n",
    "Sample Output 2:\n",
    "4\n",
    "21 25 36 145\n",
    "```"
   ]
  },
  {
   "cell_type": "code",
   "execution_count": 1,
   "id": "be6fe1a1",
   "metadata": {},
   "outputs": [
    {
     "name": "stdin",
     "output_type": "stream",
     "text": [
      "Enter the number of element:  5\n",
      "\n",
      "Enter the number :  1 2 1 2 1\n"
     ]
    },
    {
     "name": "stdout",
     "output_type": "stream",
     "text": [
      "2\n",
      "1 2 "
     ]
    }
   ],
   "source": [
    "n=int(input(\"Enter the number of element: \"))\n",
    "list1=list(map(int,input(\"\\nEnter the number : \").split()[:n]))\n",
    "set1=set(list1)\n",
    "list2=list(map(int,set1))\n",
    "list2.sort()\n",
    "print(len(list2))\n",
    "for i in list2:\n",
    "    print(i,end=\" \")"
   ]
  },
  {
   "cell_type": "code",
   "execution_count": 2,
   "id": "1a589acf-7ef4-4563-8ad5-70ac15183dd9",
   "metadata": {},
   "outputs": [
    {
     "name": "stdin",
     "output_type": "stream",
     "text": [
      "Enter the number of element:  5\n",
      "\n",
      "Enter the number :  145 25 21 25 36\n"
     ]
    },
    {
     "name": "stdout",
     "output_type": "stream",
     "text": [
      "4\n",
      "21 25 36 145 "
     ]
    }
   ],
   "source": [
    "n=int(input(\"Enter the number of element: \"))\n",
    "list1=list(map(int,input(\"\\nEnter the number : \").split()[:n]))\n",
    "set1=set(list1)\n",
    "list2=list(map(int,set1))\n",
    "list2.sort()\n",
    "print(len(list2))\n",
    "for i in list2:\n",
    "    print(i,end=\" \")"
   ]
  },
  {
   "cell_type": "markdown",
   "id": "8502e7a3",
   "metadata": {},
   "source": [
    "```\n",
    "Q2.ANUSHKA’S PROBLEM\n",
    "\n",
    "Anuska has created a robot that will take instructions and work accordingly. Due to budget problem, she has set the memory low. To overcome that, she has to encode the instruction. Given the instruction S, count the consecutive characters and each character will be folowed by its frequency.\n",
    "For example, if the instruction is \"aaaabb\", the encoded instruction is \"a4b2\".\n",
    "\n",
    "Note:If the frequency is one, the count need not be printed.\n",
    "\n",
    "Input format:\n",
    "The first input is a string that denotes the instruction, S.\n",
    "\n",
    "Output format\n",
    "Output is a string that denotes the encoded string.\n",
    "\n",
    "Sample input 1:\n",
    "aaaabb\n",
    "Sample output 1:\n",
    "a4b2\n",
    "\n",
    "Sample input 2:\n",
    "sggvvvgss\n",
    "Sample output 2:\n",
    "sg2v3gs2 \n",
    "```"
   ]
  },
  {
   "cell_type": "code",
   "execution_count": 7,
   "id": "9fedd5e3",
   "metadata": {},
   "outputs": [
    {
     "name": "stdin",
     "output_type": "stream",
     "text": [
      " sggvvvgss\n"
     ]
    },
    {
     "name": "stdout",
     "output_type": "stream",
     "text": [
      "sg2v3gs2\n"
     ]
    }
   ],
   "source": [
    "def function(s):\n",
    "    i=0\n",
    "    while(i<len(s)):\n",
    "        if i==len(s)-1:\n",
    "            print(str(s[i]),end=\"\")\n",
    "            break\n",
    "        else:\n",
    "            if s[i]==s[i+1]:\n",
    "                count=1\n",
    "                while s[i]==s[i+1]:\n",
    "                    i+=1\n",
    "                    count+=1\n",
    "                    if i+1==len(s):\n",
    "                        break\n",
    "                print(str(s[i])+str(count),end=\"\")\n",
    "            else:\n",
    "                    print(str(s[i]),end=\"\")\n",
    "        i+=1\n",
    "    print()\n",
    "n=input()\n",
    "function(n)\n",
    "                "
   ]
  },
  {
   "cell_type": "code",
   "execution_count": 8,
   "id": "8063a6a1-1940-4679-938a-2de149988455",
   "metadata": {},
   "outputs": [
    {
     "name": "stdin",
     "output_type": "stream",
     "text": [
      " aaaabb\n"
     ]
    },
    {
     "name": "stdout",
     "output_type": "stream",
     "text": [
      "a4b2\n"
     ]
    }
   ],
   "source": [
    "def function(s):\n",
    "    i=0\n",
    "    while(i<len(s)):\n",
    "        if i==len(s)-1:\n",
    "            print(str(s[i]),end=\"\")\n",
    "            break\n",
    "        else:\n",
    "            if s[i]==s[i+1]:\n",
    "                count=1\n",
    "                while s[i]==s[i+1]:\n",
    "                    i+=1\n",
    "                    count+=1\n",
    "                    if i+1==len(s):\n",
    "                        break\n",
    "                print(str(s[i])+str(count),end=\"\")\n",
    "            else:\n",
    "                    print(str(s[i]),end=\"\")\n",
    "        i+=1\n",
    "    print()\n",
    "n=input()\n",
    "function(n)"
   ]
  },
  {
   "cell_type": "markdown",
   "id": "940d5979",
   "metadata": {},
   "source": [
    "```\n",
    "Q3.SKILL TESTING\n",
    "Amar's team is assigned with a project that deals with the digital signals. He is aware that the digital signals will be represented as arrays. He wants to test his team with respect to their strength in arrays.As part of the skill testing, the  task is as follows.\n",
    "You are given an array of integers of size N.\n",
    "Consider all its contiguous subarrays of length k and find the maximum sum.\n",
    "Do this for all k from 1 to the length of the input array.\n",
    "Write a program to evaluate the task done by the kids.\n",
    "\n",
    "Input format:\n",
    "The first line contains a single integer denotes the size of the array, N.\n",
    "The second line contains N-space separated integer that corresponds to the values of the array.\n",
    "\n",
    "Output format:\n",
    "The output consists of N-space separated integer values of the result array.\n",
    "\n",
    "Sample Input 1:\n",
    "5\n",
    "-1 2 1 3 -2\n",
    "Sample Output 1:\n",
    "3 4 6 5 3\n",
    "\n",
    "Explanation:\n",
    "For inputArray = [-1, 2, 1, 3, -2], the output should be [3, 2, 1, 0, 0].\n",
    "The contiguous subarray\n",
    "    of K = 1, each subarray will have 1 element. The sub-array with maximum sum is [3]. So result[0] = 3.\n",
    "    of K = 2, each subarray will have 2 elements. The sub-array with maximum sum is [1,3]. So result[1] = 4.\n",
    "    of K = 3, each subarray will have 3 elements. The sub-array with maximum sum is [2,1,3]. So result[2] = 6.\n",
    "    of K = 4, each subarray will have 4 elements. The sub-array with maximum sum is [-1,2,1,3]. So result[1] = 5.\n",
    "    of K = 5, each subarray will have 5 elements. The sub-array with maximum sum is [-1,2,1,3,-2]. So result[1] = 3.\n",
    "So the result array is [3, 4, 6, 5, 3].\n",
    "\n",
    "Sample Input 2:\n",
    "5\n",
    "2 3 2 -2 3\n",
    "Sample Output 2:\n",
    "3 5 7 6 8 \n"
   ]
  },
  {
   "cell_type": "code",
   "execution_count": 12,
   "id": "491bd3bc",
   "metadata": {},
   "outputs": [
    {
     "name": "stdin",
     "output_type": "stream",
     "text": [
      "Enter number of elements :  5\n",
      "\n",
      "Enter the numbers :  2 3 2 -2 3\n"
     ]
    },
    {
     "name": "stdout",
     "output_type": "stream",
     "text": [
      "3 5 7 6 8 "
     ]
    }
   ],
   "source": [
    "n=int(input(\"Enter number of elements : \"))\n",
    "list1=list(map(int,input(\"\\nEnter the numbers : \").split()))\n",
    "list2=list(list1[i:i+j] for i in range(0,len(list1)) for j in range (1,len(list1)-i+1))\n",
    "j=1\n",
    "for i in range(0,n):\n",
    "    count=0\n",
    "    for i in range(0,len(list2)):\n",
    "        if len(list2[i])==j:\n",
    "            if sum(list2[i])>count:\n",
    "                count=sum(list2[i])\n",
    "    j+=1\n",
    "    print(count,end=\" \")\n",
    "    "
   ]
  },
  {
   "cell_type": "code",
   "execution_count": null,
   "id": "29815c03-5783-4fc9-82e2-d31019e42e55",
   "metadata": {},
   "outputs": [],
   "source": []
  }
 ],
 "metadata": {
  "kernelspec": {
   "display_name": "Python 3 (ipykernel)",
   "language": "python",
   "name": "python3"
  },
  "language_info": {
   "codemirror_mode": {
    "name": "ipython",
    "version": 3
   },
   "file_extension": ".py",
   "mimetype": "text/x-python",
   "name": "python",
   "nbconvert_exporter": "python",
   "pygments_lexer": "ipython3",
   "version": "3.9.7"
  }
 },
 "nbformat": 4,
 "nbformat_minor": 5
}
